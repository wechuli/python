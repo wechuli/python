{
 "cells": [
  {
   "cell_type": "code",
   "execution_count": 4,
   "metadata": {},
   "outputs": [
    {
     "name": "stdout",
     "output_type": "stream",
     "text": [
      "What is your favorite color: Black\n",
      "I like how you think\n"
     ]
    }
   ],
   "source": [
    "color = input('What is your favorite color: ')\n",
    "if color == 'Purple':\n",
    "    print('Hmm, you must be a girl then')\n",
    "elif color == 'Black':\n",
    "    print('I like how you think')\n",
    "elif color == 'White':\n",
    "    print('How boring!')\n",
    "else:\n",
    "    print('Error 404')"
   ]
  },
  {
   "cell_type": "code",
   "execution_count": 7,
   "metadata": {},
   "outputs": [
    {
     "name": "stdout",
     "output_type": "stream",
     "text": [
      "yay\n"
     ]
    }
   ],
   "source": [
    "if 1:\n",
    "    print('yay')\n"
   ]
  },
  {
   "cell_type": "code",
   "execution_count": 9,
   "metadata": {},
   "outputs": [
    {
     "name": "stdout",
     "output_type": "stream",
     "text": [
      "A printed\n"
     ]
    }
   ],
   "source": [
    "a = 'r'\n",
    "if a :\n",
    "    print('A printed')"
   ]
  },
  {
   "cell_type": "code",
   "execution_count": 12,
   "metadata": {},
   "outputs": [
    {
     "name": "stdout",
     "output_type": "stream",
     "text": [
      "Enter your favorite animal\n"
     ]
    }
   ],
   "source": [
    "#any string that isn't empty is truthy\n",
    "bool\n",
    "animal = input('Enter your favorite animal')\n",
    "if animal:\n",
    "    print(animal,'is my favorite too')"
   ]
  },
  {
   "cell_type": "code",
   "execution_count": null,
   "metadata": {},
   "outputs": [],
   "source": []
  }
 ],
 "metadata": {
  "kernelspec": {
   "display_name": "Python 3",
   "language": "python",
   "name": "python3"
  },
  "language_info": {
   "codemirror_mode": {
    "name": "ipython",
    "version": 3
   },
   "file_extension": ".py",
   "mimetype": "text/x-python",
   "name": "python",
   "nbconvert_exporter": "python",
   "pygments_lexer": "ipython3",
   "version": "3.7.0"
  }
 },
 "nbformat": 4,
 "nbformat_minor": 2
}
